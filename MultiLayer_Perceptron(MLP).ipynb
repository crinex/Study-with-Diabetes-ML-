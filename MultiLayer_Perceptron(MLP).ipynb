{
  "nbformat": 4,
  "nbformat_minor": 0,
  "metadata": {
    "colab": {
      "name": "MultiLayer Perceptron(MLP).ipynb",
      "provenance": [],
      "toc_visible": true,
      "authorship_tag": "ABX9TyM+acegRMHNYSBaHNYuwsNu",
      "include_colab_link": true
    },
    "kernelspec": {
      "name": "python3",
      "display_name": "Python 3"
    }
  },
  "cells": [
    {
      "cell_type": "markdown",
      "metadata": {
        "id": "view-in-github",
        "colab_type": "text"
      },
      "source": [
        "<a href=\"https://colab.research.google.com/github/crinex/Study-with-Diabetes-ML-/blob/main/MultiLayer_Perceptron(MLP).ipynb\" target=\"_parent\"><img src=\"https://colab.research.google.com/assets/colab-badge.svg\" alt=\"Open In Colab\"/></a>"
      ]
    },
    {
      "cell_type": "markdown",
      "metadata": {
        "id": "R5fRvI75Z8Or"
      },
      "source": [
        "## 다중 레이어 퍼셉트론(MLP)\r\n"
      ]
    },
    {
      "cell_type": "markdown",
      "metadata": {
        "id": "IrHZmkora88a"
      },
      "source": [
        "### 당뇨병을 예측해보자\r\n",
        "- 당뇨병은 제1형 당뇨와 2형 당뇨로 나뉜다.\r\n",
        "- 제1형 : 체내에서 인슐린을 충분히 생산하지 못해 발생, 제2형에 비해 희귀하고 정확한 원인이 밝혀지지 않았다.\r\n",
        "- 제2형 : 점진적인 인슐린 저항으로 발생, 전 세계적으로 가장 흔한 당뇨 유형이며 과체중, 운동 부족, 잘못된 식습관 등이 주요 원인 2형 당뇨의 경우엔 조기 진단으로 예방하고 치료가 가능하다.\r\n",
        "- 당뇨 초기에는 별다른 증상이 나타나지 않아 조기 진단이 어렵다. \r\n",
        "- 이러한 문제를 머신 러닝으로 해결하고자 한다. 환자의 상태를 측정한 의료 데이터와 측정 후 몇 년 내 당뇨가 발병했는지 여부를 기록한 데이터가 있다면 이 데이터로 분류 모델을 훈련시키고 새로운 환자의 발병 여부를 예측할 수 있다."
      ]
    },
    {
      "cell_type": "markdown",
      "metadata": {
        "id": "s97TyrNUc6u5"
      },
      "source": [
        "### EDA\r\n",
        "- 피마 인디언 당뇨 데이터셋을 분석한다."
      ]
    },
    {
      "cell_type": "code",
      "metadata": {
        "id": "Mjo0J8g6ZrUa"
      },
      "source": [
        "import pandas as pd\r\n",
        "import seaborn as sns\r\n",
        "import matplotlib.pyplot as plt\r\n",
        "import numpy as np\r\n",
        "\r\n",
        "from sklearn import preprocessing\r\n",
        "from sklearn.model_selection import train_test_split\r\n",
        "from keras import Sequential\r\n",
        "from keras.layers import Dense"
      ],
      "execution_count": 34,
      "outputs": []
    },
    {
      "cell_type": "code",
      "metadata": {
        "id": "gHFv-sF1dBqR"
      },
      "source": [
        "df = pd.read_csv('diabetes.csv')"
      ],
      "execution_count": 2,
      "outputs": []
    },
    {
      "cell_type": "code",
      "metadata": {
        "colab": {
          "base_uri": "https://localhost:8080/",
          "height": 204
        },
        "id": "J1vuxd8xdFK5",
        "outputId": "ee7038c0-24f4-491c-fc6f-7ccde5c88297"
      },
      "source": [
        "df.head()"
      ],
      "execution_count": 3,
      "outputs": [
        {
          "output_type": "execute_result",
          "data": {
            "text/html": [
              "<div>\n",
              "<style scoped>\n",
              "    .dataframe tbody tr th:only-of-type {\n",
              "        vertical-align: middle;\n",
              "    }\n",
              "\n",
              "    .dataframe tbody tr th {\n",
              "        vertical-align: top;\n",
              "    }\n",
              "\n",
              "    .dataframe thead th {\n",
              "        text-align: right;\n",
              "    }\n",
              "</style>\n",
              "<table border=\"1\" class=\"dataframe\">\n",
              "  <thead>\n",
              "    <tr style=\"text-align: right;\">\n",
              "      <th></th>\n",
              "      <th>Pregnancies</th>\n",
              "      <th>Glucose</th>\n",
              "      <th>BloodPressure</th>\n",
              "      <th>SkinThickness</th>\n",
              "      <th>Insulin</th>\n",
              "      <th>BMI</th>\n",
              "      <th>DiabetesPedigreeFunction</th>\n",
              "      <th>Age</th>\n",
              "      <th>Outcome</th>\n",
              "    </tr>\n",
              "  </thead>\n",
              "  <tbody>\n",
              "    <tr>\n",
              "      <th>0</th>\n",
              "      <td>6</td>\n",
              "      <td>148</td>\n",
              "      <td>72</td>\n",
              "      <td>35</td>\n",
              "      <td>0</td>\n",
              "      <td>33.6</td>\n",
              "      <td>0.627</td>\n",
              "      <td>50</td>\n",
              "      <td>1</td>\n",
              "    </tr>\n",
              "    <tr>\n",
              "      <th>1</th>\n",
              "      <td>1</td>\n",
              "      <td>85</td>\n",
              "      <td>66</td>\n",
              "      <td>29</td>\n",
              "      <td>0</td>\n",
              "      <td>26.6</td>\n",
              "      <td>0.351</td>\n",
              "      <td>31</td>\n",
              "      <td>0</td>\n",
              "    </tr>\n",
              "    <tr>\n",
              "      <th>2</th>\n",
              "      <td>8</td>\n",
              "      <td>183</td>\n",
              "      <td>64</td>\n",
              "      <td>0</td>\n",
              "      <td>0</td>\n",
              "      <td>23.3</td>\n",
              "      <td>0.672</td>\n",
              "      <td>32</td>\n",
              "      <td>1</td>\n",
              "    </tr>\n",
              "    <tr>\n",
              "      <th>3</th>\n",
              "      <td>1</td>\n",
              "      <td>89</td>\n",
              "      <td>66</td>\n",
              "      <td>23</td>\n",
              "      <td>94</td>\n",
              "      <td>28.1</td>\n",
              "      <td>0.167</td>\n",
              "      <td>21</td>\n",
              "      <td>0</td>\n",
              "    </tr>\n",
              "    <tr>\n",
              "      <th>4</th>\n",
              "      <td>0</td>\n",
              "      <td>137</td>\n",
              "      <td>40</td>\n",
              "      <td>35</td>\n",
              "      <td>168</td>\n",
              "      <td>43.1</td>\n",
              "      <td>2.288</td>\n",
              "      <td>33</td>\n",
              "      <td>1</td>\n",
              "    </tr>\n",
              "  </tbody>\n",
              "</table>\n",
              "</div>"
            ],
            "text/plain": [
              "   Pregnancies  Glucose  BloodPressure  ...  DiabetesPedigreeFunction  Age  Outcome\n",
              "0            6      148             72  ...                     0.627   50        1\n",
              "1            1       85             66  ...                     0.351   31        0\n",
              "2            8      183             64  ...                     0.672   32        1\n",
              "3            1       89             66  ...                     0.167   21        0\n",
              "4            0      137             40  ...                     2.288   33        1\n",
              "\n",
              "[5 rows x 9 columns]"
            ]
          },
          "metadata": {
            "tags": []
          },
          "execution_count": 3
        }
      ]
    },
    {
      "cell_type": "code",
      "metadata": {
        "colab": {
          "base_uri": "https://localhost:8080/"
        },
        "id": "7vKSXpXjdGOK",
        "outputId": "1e9fef8c-9374-4fad-e9be-4209556c1c62"
      },
      "source": [
        "df.info()"
      ],
      "execution_count": 4,
      "outputs": [
        {
          "output_type": "stream",
          "text": [
            "<class 'pandas.core.frame.DataFrame'>\n",
            "RangeIndex: 768 entries, 0 to 767\n",
            "Data columns (total 9 columns):\n",
            " #   Column                    Non-Null Count  Dtype  \n",
            "---  ------                    --------------  -----  \n",
            " 0   Pregnancies               768 non-null    int64  \n",
            " 1   Glucose                   768 non-null    int64  \n",
            " 2   BloodPressure             768 non-null    int64  \n",
            " 3   SkinThickness             768 non-null    int64  \n",
            " 4   Insulin                   768 non-null    int64  \n",
            " 5   BMI                       768 non-null    float64\n",
            " 6   DiabetesPedigreeFunction  768 non-null    float64\n",
            " 7   Age                       768 non-null    int64  \n",
            " 8   Outcome                   768 non-null    int64  \n",
            "dtypes: float64(2), int64(7)\n",
            "memory usage: 54.1 KB\n"
          ],
          "name": "stdout"
        }
      ]
    },
    {
      "cell_type": "markdown",
      "metadata": {
        "id": "I0WMo-OtdJ74"
      },
      "source": [
        "- 이 데이터셋에는 9개의 칼럼이 있다.\r\n",
        "- Pregnancies : 과거 임신 횟수\r\n",
        "- Glucose : 혈장(plasma)혈당\r\n",
        "- BloodPressure : 이완기(diastolic)혈압\r\n",
        "- SkinThickness : 삼두근에서 측정한 피부두겹두께(skin fold thickness)\r\n",
        "- Insulin : 혈청(blood serum)인슐린 농도\r\n",
        "- BMI : 체질량지수\r\n",
        "- DiabetesPedigreeFunction : 환자가 당뇨에 얼마나 취약한지 요약한 점수, 환자의 당뇨 가족력을 바탕으로 추정한 점수\r\n",
        "- Age : 햇수로 계산한 나이\r\n",
        "- Outcome : 예측 목표 변수, 최초 측정 이후 5년 내 당뇨가 발생하면 1, 미발병시 0"
      ]
    },
    {
      "cell_type": "markdown",
      "metadata": {
        "id": "87w1xnzXeUlc"
      },
      "source": [
        "### Data Visualization"
      ]
    },
    {
      "cell_type": "code",
      "metadata": {
        "colab": {
          "base_uri": "https://localhost:8080/",
          "height": 297
        },
        "id": "5eXTSWwLeOgx",
        "outputId": "b711cb5b-5a8d-4f0f-cdb3-66ad5bd49d0a"
      },
      "source": [
        "df.hist()\r\n",
        "plt.tight_layout()\r\n",
        "plt.show()"
      ],
      "execution_count": 8,
      "outputs": [
        {
          "output_type": "display_data",
          "data": {
            "image/png": "[encoded data removed]",
            "text/plain": [
              "<Figure size 432x288 with 9 Axes>"
            ]
          },
          "metadata": {
            "tags": [],
            "needs_background": "light"
          }
        }
      ]
    },
    {
      "cell_type": "markdown",
      "metadata": {
        "id": "HDbza0UDemuV"
      },
      "source": [
        "- Age 차트를 보면 대부분 젊은환자가 대부분이다.\r\n",
        "- Glucose, BloodPressure, BMI는 정규분포 모양을 한다.\r\n",
        "- BloodPressure, BMI, Glusose는 0값을 가질수 없으므로 결측값이 존재한다고 볼 수 있다.\r\n",
        "- Pregnancies값에도 이상치는 보인다. 이상치는 예측 결과를 왜곡할 수 있으므로 주의한다.\r\n",
        "- 변수들이 각각 다른 범위를 가지므로 표준화가 필요하다"
      ]
    },
    {
      "cell_type": "code",
      "metadata": {
        "colab": {
          "base_uri": "https://localhost:8080/",
          "height": 1000
        },
        "id": "cDFoLMTTeb7a",
        "outputId": "a9e7187a-764a-4529-cacd-321e858d3dfd"
      },
      "source": [
        "# 3x3 크기의 서브차트 만든다\r\n",
        "plt.subplots(3,3,figsize=(10,10))\r\n",
        "\r\n",
        "# 각 특징 변수의 밀도 차트 그린다.\r\n",
        "for idx, col in enumerate(df.columns[:-1]):\r\n",
        "  ax = plt.subplot(3,3, idx+1)\r\n",
        "  ax.yaxis.set_ticklabels([])\r\n",
        "  sns.distplot(df.loc[df.Outcome == 0][col], hist=False, axlabel= False, kde_kws={'linestyle':'-', 'color':'black', 'label':\"No Diabetes\"})\r\n",
        "  sns.distplot(df.loc[df.Outcome == 1][col], hist=False, axlabel= False, kde_kws={'linestyle':'--', 'color':'red', 'label':\"Diabetes\"})\r\n",
        "  ax.set_title(col)\r\n",
        "\r\n",
        "# 차트가 8개 뿐이므로 9번째 서브차트는 숨긴다.\r\n",
        "plt.subplot(3,3,9).set_visible(False)\r\n",
        "plt.tight_layout()\r\n",
        "plt.show()"
      ],
      "execution_count": 14,
      "outputs": [
        {
          "output_type": "stream",
          "text": [
            "/usr/local/lib/python3.6/dist-packages/seaborn/distributions.py:2551: FutureWarning: `distplot` is a deprecated function and will be removed in a future version. Please adapt your code to use either `displot` (a figure-level function with similar flexibility) or `kdeplot` (an axes-level function for kernel density plots).\n",
            "  warnings.warn(msg, FutureWarning)\n",
            "/usr/local/lib/python3.6/dist-packages/seaborn/distributions.py:2551: FutureWarning: `distplot` is a deprecated function and will be removed in a future version. Please adapt your code to use either `displot` (a figure-level function with similar flexibility) or `kdeplot` (an axes-level function for kernel density plots).\n",
            "  warnings.warn(msg, FutureWarning)\n",
            "/usr/local/lib/python3.6/dist-packages/seaborn/distributions.py:2551: FutureWarning: `distplot` is a deprecated function and will be removed in a future version. Please adapt your code to use either `displot` (a figure-level function with similar flexibility) or `kdeplot` (an axes-level function for kernel density plots).\n",
            "  warnings.warn(msg, FutureWarning)\n",
            "/usr/local/lib/python3.6/dist-packages/seaborn/distributions.py:2551: FutureWarning: `distplot` is a deprecated function and will be removed in a future version. Please adapt your code to use either `displot` (a figure-level function with similar flexibility) or `kdeplot` (an axes-level function for kernel density plots).\n",
            "  warnings.warn(msg, FutureWarning)\n",
            "/usr/local/lib/python3.6/dist-packages/seaborn/distributions.py:2551: FutureWarning: `distplot` is a deprecated function and will be removed in a future version. Please adapt your code to use either `displot` (a figure-level function with similar flexibility) or `kdeplot` (an axes-level function for kernel density plots).\n",
            "  warnings.warn(msg, FutureWarning)\n",
            "/usr/local/lib/python3.6/dist-packages/seaborn/distributions.py:2551: FutureWarning: `distplot` is a deprecated function and will be removed in a future version. Please adapt your code to use either `displot` (a figure-level function with similar flexibility) or `kdeplot` (an axes-level function for kernel density plots).\n",
            "  warnings.warn(msg, FutureWarning)\n",
            "/usr/local/lib/python3.6/dist-packages/seaborn/distributions.py:2551: FutureWarning: `distplot` is a deprecated function and will be removed in a future version. Please adapt your code to use either `displot` (a figure-level function with similar flexibility) or `kdeplot` (an axes-level function for kernel density plots).\n",
            "  warnings.warn(msg, FutureWarning)\n",
            "/usr/local/lib/python3.6/dist-packages/seaborn/distributions.py:2551: FutureWarning: `distplot` is a deprecated function and will be removed in a future version. Please adapt your code to use either `displot` (a figure-level function with similar flexibility) or `kdeplot` (an axes-level function for kernel density plots).\n",
            "  warnings.warn(msg, FutureWarning)\n",
            "/usr/local/lib/python3.6/dist-packages/seaborn/distributions.py:2551: FutureWarning: `distplot` is a deprecated function and will be removed in a future version. Please adapt your code to use either `displot` (a figure-level function with similar flexibility) or `kdeplot` (an axes-level function for kernel density plots).\n",
            "  warnings.warn(msg, FutureWarning)\n",
            "/usr/local/lib/python3.6/dist-packages/seaborn/distributions.py:2551: FutureWarning: `distplot` is a deprecated function and will be removed in a future version. Please adapt your code to use either `displot` (a figure-level function with similar flexibility) or `kdeplot` (an axes-level function for kernel density plots).\n",
            "  warnings.warn(msg, FutureWarning)\n",
            "/usr/local/lib/python3.6/dist-packages/seaborn/distributions.py:2551: FutureWarning: `distplot` is a deprecated function and will be removed in a future version. Please adapt your code to use either `displot` (a figure-level function with similar flexibility) or `kdeplot` (an axes-level function for kernel density plots).\n",
            "  warnings.warn(msg, FutureWarning)\n",
            "/usr/local/lib/python3.6/dist-packages/seaborn/distributions.py:2551: FutureWarning: `distplot` is a deprecated function and will be removed in a future version. Please adapt your code to use either `displot` (a figure-level function with similar flexibility) or `kdeplot` (an axes-level function for kernel density plots).\n",
            "  warnings.warn(msg, FutureWarning)\n",
            "/usr/local/lib/python3.6/dist-packages/seaborn/distributions.py:2551: FutureWarning: `distplot` is a deprecated function and will be removed in a future version. Please adapt your code to use either `displot` (a figure-level function with similar flexibility) or `kdeplot` (an axes-level function for kernel density plots).\n",
            "  warnings.warn(msg, FutureWarning)\n",
            "/usr/local/lib/python3.6/dist-packages/seaborn/distributions.py:2551: FutureWarning: `distplot` is a deprecated function and will be removed in a future version. Please adapt your code to use either `displot` (a figure-level function with similar flexibility) or `kdeplot` (an axes-level function for kernel density plots).\n",
            "  warnings.warn(msg, FutureWarning)\n",
            "/usr/local/lib/python3.6/dist-packages/seaborn/distributions.py:2551: FutureWarning: `distplot` is a deprecated function and will be removed in a future version. Please adapt your code to use either `displot` (a figure-level function with similar flexibility) or `kdeplot` (an axes-level function for kernel density plots).\n",
            "  warnings.warn(msg, FutureWarning)\n",
            "/usr/local/lib/python3.6/dist-packages/seaborn/distributions.py:2551: FutureWarning: `distplot` is a deprecated function and will be removed in a future version. Please adapt your code to use either `displot` (a figure-level function with similar flexibility) or `kdeplot` (an axes-level function for kernel density plots).\n",
            "  warnings.warn(msg, FutureWarning)\n"
          ],
          "name": "stderr"
        },
        {
          "output_type": "display_data",
          "data": {
            "image/png": "[encoded data removed]",
            "text/plain": [
              "<Figure size 720x720 with 9 Axes>"
            ]
          },
          "metadata": {
            "tags": [],
            "needs_background": "light"
          }
        }
      ]
    },
    {
      "cell_type": "markdown",
      "metadata": {
        "id": "hwxRLyReiQQL"
      },
      "source": [
        "- 미발병자 : 실선, 발병자 : 점선\r\n",
        "- Glucose 그래프를 보면 미발병자의 Glucose는 100을 중심으로 정규분포를 보인다. 즉, 건강한 사람의 혈당은 100정도다. 발병자의 경우엔 퍼진 종 모양을 하고 있고 150주변에 위치한다.\r\n",
        "- BMI 그래프를 보면 발병자가 훨씬 많다.\r\n",
        "- SkinThickness와 BloodPressure는 발병자와 미발병자간의 차이가 없으므로 예측하는데에 도움이 안될것이다.\r\n"
      ]
    },
    {
      "cell_type": "markdown",
      "metadata": {
        "id": "nRz3uwPCkJmz"
      },
      "source": [
        "### EDA\r\n"
      ]
    },
    {
      "cell_type": "code",
      "metadata": {
        "colab": {
          "base_uri": "https://localhost:8080/"
        },
        "id": "526xQI_PhsQQ",
        "outputId": "e79af872-6218-40ec-9352-f4eaadcec356"
      },
      "source": [
        "df.isnull().sum()"
      ],
      "execution_count": 16,
      "outputs": [
        {
          "output_type": "execute_result",
          "data": {
            "text/plain": [
              "Pregnancies                 0\n",
              "Glucose                     0\n",
              "BloodPressure               0\n",
              "SkinThickness               0\n",
              "Insulin                     0\n",
              "BMI                         0\n",
              "DiabetesPedigreeFunction    0\n",
              "Age                         0\n",
              "Outcome                     0\n",
              "dtype: int64"
            ]
          },
          "metadata": {
            "tags": []
          },
          "execution_count": 16
        }
      ]
    },
    {
      "cell_type": "markdown",
      "metadata": {
        "id": "TZJANkB_kR4y"
      },
      "source": [
        "- isnull() : 결측값있는지 확인\r\n",
        "- sum() : 총합을 반환\r\n",
        "- df.isnull().sum() : df 데이터에 결측값이 있는지 확인하고 총합을 반환한다.\r\n",
        "- 모두 0으로 반환한것을 보아 결측값이 없는것처럼 보일 수 있으나 수치가 0으로 적혀있으면 NaN가 아니므로 결측값이 아니라고 판단한다. 따라서 통계요약수치로 0이 있으면 안되는 컬럼에 0이 들어있는지 확인할 필요가 있다."
      ]
    },
    {
      "cell_type": "code",
      "metadata": {
        "colab": {
          "base_uri": "https://localhost:8080/",
          "height": 297
        },
        "id": "zZuFcMMmkP1o",
        "outputId": "f4464b83-800a-4b43-dc17-102f5c4b96cf"
      },
      "source": [
        "df.describe()"
      ],
      "execution_count": 17,
      "outputs": [
        {
          "output_type": "execute_result",
          "data": {
            "text/html": [
              "<div>\n",
              "<style scoped>\n",
              "    .dataframe tbody tr th:only-of-type {\n",
              "        vertical-align: middle;\n",
              "    }\n",
              "\n",
              "    .dataframe tbody tr th {\n",
              "        vertical-align: top;\n",
              "    }\n",
              "\n",
              "    .dataframe thead th {\n",
              "        text-align: right;\n",
              "    }\n",
              "</style>\n",
              "<table border=\"1\" class=\"dataframe\">\n",
              "  <thead>\n",
              "    <tr style=\"text-align: right;\">\n",
              "      <th></th>\n",
              "      <th>Pregnancies</th>\n",
              "      <th>Glucose</th>\n",
              "      <th>BloodPressure</th>\n",
              "      <th>SkinThickness</th>\n",
              "      <th>Insulin</th>\n",
              "      <th>BMI</th>\n",
              "      <th>DiabetesPedigreeFunction</th>\n",
              "      <th>Age</th>\n",
              "      <th>Outcome</th>\n",
              "    </tr>\n",
              "  </thead>\n",
              "  <tbody>\n",
              "    <tr>\n",
              "      <th>count</th>\n",
              "      <td>768.000000</td>\n",
              "      <td>768.000000</td>\n",
              "      <td>768.000000</td>\n",
              "      <td>768.000000</td>\n",
              "      <td>768.000000</td>\n",
              "      <td>768.000000</td>\n",
              "      <td>768.000000</td>\n",
              "      <td>768.000000</td>\n",
              "      <td>768.000000</td>\n",
              "    </tr>\n",
              "    <tr>\n",
              "      <th>mean</th>\n",
              "      <td>3.845052</td>\n",
              "      <td>120.894531</td>\n",
              "      <td>69.105469</td>\n",
              "      <td>20.536458</td>\n",
              "      <td>79.799479</td>\n",
              "      <td>31.992578</td>\n",
              "      <td>0.471876</td>\n",
              "      <td>33.240885</td>\n",
              "      <td>0.348958</td>\n",
              "    </tr>\n",
              "    <tr>\n",
              "      <th>std</th>\n",
              "      <td>3.369578</td>\n",
              "      <td>31.972618</td>\n",
              "      <td>19.355807</td>\n",
              "      <td>15.952218</td>\n",
              "      <td>115.244002</td>\n",
              "      <td>7.884160</td>\n",
              "      <td>0.331329</td>\n",
              "      <td>11.760232</td>\n",
              "      <td>0.476951</td>\n",
              "    </tr>\n",
              "    <tr>\n",
              "      <th>min</th>\n",
              "      <td>0.000000</td>\n",
              "      <td>0.000000</td>\n",
              "      <td>0.000000</td>\n",
              "      <td>0.000000</td>\n",
              "      <td>0.000000</td>\n",
              "      <td>0.000000</td>\n",
              "      <td>0.078000</td>\n",
              "      <td>21.000000</td>\n",
              "      <td>0.000000</td>\n",
              "    </tr>\n",
              "    <tr>\n",
              "      <th>25%</th>\n",
              "      <td>1.000000</td>\n",
              "      <td>99.000000</td>\n",
              "      <td>62.000000</td>\n",
              "      <td>0.000000</td>\n",
              "      <td>0.000000</td>\n",
              "      <td>27.300000</td>\n",
              "      <td>0.243750</td>\n",
              "      <td>24.000000</td>\n",
              "      <td>0.000000</td>\n",
              "    </tr>\n",
              "    <tr>\n",
              "      <th>50%</th>\n",
              "      <td>3.000000</td>\n",
              "      <td>117.000000</td>\n",
              "      <td>72.000000</td>\n",
              "      <td>23.000000</td>\n",
              "      <td>30.500000</td>\n",
              "      <td>32.000000</td>\n",
              "      <td>0.372500</td>\n",
              "      <td>29.000000</td>\n",
              "      <td>0.000000</td>\n",
              "    </tr>\n",
              "    <tr>\n",
              "      <th>75%</th>\n",
              "      <td>6.000000</td>\n",
              "      <td>140.250000</td>\n",
              "      <td>80.000000</td>\n",
              "      <td>32.000000</td>\n",
              "      <td>127.250000</td>\n",
              "      <td>36.600000</td>\n",
              "      <td>0.626250</td>\n",
              "      <td>41.000000</td>\n",
              "      <td>1.000000</td>\n",
              "    </tr>\n",
              "    <tr>\n",
              "      <th>max</th>\n",
              "      <td>17.000000</td>\n",
              "      <td>199.000000</td>\n",
              "      <td>122.000000</td>\n",
              "      <td>99.000000</td>\n",
              "      <td>846.000000</td>\n",
              "      <td>67.100000</td>\n",
              "      <td>2.420000</td>\n",
              "      <td>81.000000</td>\n",
              "      <td>1.000000</td>\n",
              "    </tr>\n",
              "  </tbody>\n",
              "</table>\n",
              "</div>"
            ],
            "text/plain": [
              "       Pregnancies     Glucose  ...         Age     Outcome\n",
              "count   768.000000  768.000000  ...  768.000000  768.000000\n",
              "mean      3.845052  120.894531  ...   33.240885    0.348958\n",
              "std       3.369578   31.972618  ...   11.760232    0.476951\n",
              "min       0.000000    0.000000  ...   21.000000    0.000000\n",
              "25%       1.000000   99.000000  ...   24.000000    0.000000\n",
              "50%       3.000000  117.000000  ...   29.000000    0.000000\n",
              "75%       6.000000  140.250000  ...   41.000000    1.000000\n",
              "max      17.000000  199.000000  ...   81.000000    1.000000\n",
              "\n",
              "[8 rows x 9 columns]"
            ]
          },
          "metadata": {
            "tags": []
          },
          "execution_count": 17
        }
      ]
    },
    {
      "cell_type": "markdown",
      "metadata": {
        "id": "8D4QRtP4khZk"
      },
      "source": [
        "- describe() : 데이터셋의 통계 요약\r\n",
        "- 혈당, 혈압, 피부두께 등 최솟값이 0일 수 없는 데이터에 0이 있는걸로 보아 결측값이 존재한다고 생각할 수 있다"
      ]
    },
    {
      "cell_type": "code",
      "metadata": {
        "colab": {
          "base_uri": "https://localhost:8080/"
        },
        "id": "e2O0nw3MkgEp",
        "outputId": "63290ba6-6382-4e60-8276-b15ebfa90d76"
      },
      "source": [
        "df.info()"
      ],
      "execution_count": 18,
      "outputs": [
        {
          "output_type": "stream",
          "text": [
            "<class 'pandas.core.frame.DataFrame'>\n",
            "RangeIndex: 768 entries, 0 to 767\n",
            "Data columns (total 9 columns):\n",
            " #   Column                    Non-Null Count  Dtype  \n",
            "---  ------                    --------------  -----  \n",
            " 0   Pregnancies               768 non-null    int64  \n",
            " 1   Glucose                   768 non-null    int64  \n",
            " 2   BloodPressure             768 non-null    int64  \n",
            " 3   SkinThickness             768 non-null    int64  \n",
            " 4   Insulin                   768 non-null    int64  \n",
            " 5   BMI                       768 non-null    float64\n",
            " 6   DiabetesPedigreeFunction  768 non-null    float64\n",
            " 7   Age                       768 non-null    int64  \n",
            " 8   Outcome                   768 non-null    int64  \n",
            "dtypes: float64(2), int64(7)\n",
            "memory usage: 54.1 KB\n"
          ],
          "name": "stdout"
        }
      ]
    },
    {
      "cell_type": "markdown",
      "metadata": {
        "id": "VvSFeHi6kpXd"
      },
      "source": [
        "- 이 데이터셋은 총 768개의 행과 9개의 열로 이루어져 있다.\r\n",
        "- 각 칼럼에 0이 몇 개 있는지 확인해보자"
      ]
    },
    {
      "cell_type": "code",
      "metadata": {
        "colab": {
          "base_uri": "https://localhost:8080/"
        },
        "id": "Rs3yipAjkokp",
        "outputId": "4febc21d-2482-4796-a1f3-dfab0c050e4a"
      },
      "source": [
        "print(\"Number of rows with 0 Values for each Variable\")\r\n",
        "for col in df.columns:\r\n",
        "  missing_rows = df.loc[df[col]==0].shape[0]\r\n",
        "  print(col+\":\"+str(missing_rows))"
      ],
      "execution_count": 19,
      "outputs": [
        {
          "output_type": "stream",
          "text": [
            "Number of rows with 0 Values for each Variable\n",
            "Pregnancies:111\n",
            "Glucose:5\n",
            "BloodPressure:35\n",
            "SkinThickness:227\n",
            "Insulin:374\n",
            "BMI:11\n",
            "DiabetesPedigreeFunction:0\n",
            "Age:0\n",
            "Outcome:500\n"
          ],
          "name": "stdout"
        }
      ]
    },
    {
      "cell_type": "markdown",
      "metadata": {
        "id": "u76bFvLemPaC"
      },
      "source": [
        "- 각 칼럼이 가진 0의 개수를 알 수 있다.\r\n",
        "- 결측값을 처리하는 방법으로는\r\n",
        "- 결측값이 존재하는 모든 행을 삭제하거나 대체값으로 채우는것이다.\r\n",
        "- 이번에는 평균을 대체값으로 사용해본다.\r\n",
        "- 먼저 0값을 NaN으로 바꿔 결측값으로 인식하게 만들어준다."
      ]
    },
    {
      "cell_type": "code",
      "metadata": {
        "id": "aWDh7vUTmKeP"
      },
      "source": [
        "df.Glucose = df.Glucose.replace(0, np.nan)\r\n",
        "df.BloodPressure = df.BloodPressure.replace(0, np.nan)\r\n",
        "df.SkinThickness = df.SkinThickness.replace(0, np.nan)\r\n",
        "df.Insulin = df.Insulin.replace(0, np.nan)\r\n",
        "df.BMI = df.BMI.replace(0, np.nan)"
      ],
      "execution_count": 22,
      "outputs": []
    },
    {
      "cell_type": "code",
      "metadata": {
        "colab": {
          "base_uri": "https://localhost:8080/"
        },
        "id": "NtbVrQ23nBbJ",
        "outputId": "a4126614-af6a-4dda-bea6-0d968b0938c6"
      },
      "source": [
        "print(\"Number of rows with 0 Values for each Variable\")\r\n",
        "for col in df.columns:\r\n",
        "  missing_rows = df.loc[df[col]==0].shape[0]\r\n",
        "  print(col+\":\"+str(missing_rows))"
      ],
      "execution_count": 23,
      "outputs": [
        {
          "output_type": "stream",
          "text": [
            "Number of rows with 0 Values for each Variable\n",
            "Pregnancies:111\n",
            "Glucose:0\n",
            "BloodPressure:0\n",
            "SkinThickness:0\n",
            "Insulin:0\n",
            "BMI:0\n",
            "DiabetesPedigreeFunction:0\n",
            "Age:0\n",
            "Outcome:500\n"
          ],
          "name": "stdout"
        }
      ]
    },
    {
      "cell_type": "markdown",
      "metadata": {
        "id": "CSVbvX0SnKKw"
      },
      "source": [
        "- Pregnancies, Outcome은 0값이 정상이므로 바꾸지 않고 나머지 0값이 모두 대체된것을 확인할 수 있다."
      ]
    },
    {
      "cell_type": "code",
      "metadata": {
        "colab": {
          "base_uri": "https://localhost:8080/",
          "height": 204
        },
        "id": "0AL4P1rsnJA2",
        "outputId": "8ef80f51-2f4d-47ea-d597-d3013c99cde4"
      },
      "source": [
        "df.head()"
      ],
      "execution_count": 24,
      "outputs": [
        {
          "output_type": "execute_result",
          "data": {
            "text/html": [
              "<div>\n",
              "<style scoped>\n",
              "    .dataframe tbody tr th:only-of-type {\n",
              "        vertical-align: middle;\n",
              "    }\n",
              "\n",
              "    .dataframe tbody tr th {\n",
              "        vertical-align: top;\n",
              "    }\n",
              "\n",
              "    .dataframe thead th {\n",
              "        text-align: right;\n",
              "    }\n",
              "</style>\n",
              "<table border=\"1\" class=\"dataframe\">\n",
              "  <thead>\n",
              "    <tr style=\"text-align: right;\">\n",
              "      <th></th>\n",
              "      <th>Pregnancies</th>\n",
              "      <th>Glucose</th>\n",
              "      <th>BloodPressure</th>\n",
              "      <th>SkinThickness</th>\n",
              "      <th>Insulin</th>\n",
              "      <th>BMI</th>\n",
              "      <th>DiabetesPedigreeFunction</th>\n",
              "      <th>Age</th>\n",
              "      <th>Outcome</th>\n",
              "    </tr>\n",
              "  </thead>\n",
              "  <tbody>\n",
              "    <tr>\n",
              "      <th>0</th>\n",
              "      <td>6</td>\n",
              "      <td>148.0</td>\n",
              "      <td>72.0</td>\n",
              "      <td>35.0</td>\n",
              "      <td>NaN</td>\n",
              "      <td>33.6</td>\n",
              "      <td>0.627</td>\n",
              "      <td>50</td>\n",
              "      <td>1</td>\n",
              "    </tr>\n",
              "    <tr>\n",
              "      <th>1</th>\n",
              "      <td>1</td>\n",
              "      <td>85.0</td>\n",
              "      <td>66.0</td>\n",
              "      <td>29.0</td>\n",
              "      <td>NaN</td>\n",
              "      <td>26.6</td>\n",
              "      <td>0.351</td>\n",
              "      <td>31</td>\n",
              "      <td>0</td>\n",
              "    </tr>\n",
              "    <tr>\n",
              "      <th>2</th>\n",
              "      <td>8</td>\n",
              "      <td>183.0</td>\n",
              "      <td>64.0</td>\n",
              "      <td>NaN</td>\n",
              "      <td>NaN</td>\n",
              "      <td>23.3</td>\n",
              "      <td>0.672</td>\n",
              "      <td>32</td>\n",
              "      <td>1</td>\n",
              "    </tr>\n",
              "    <tr>\n",
              "      <th>3</th>\n",
              "      <td>1</td>\n",
              "      <td>89.0</td>\n",
              "      <td>66.0</td>\n",
              "      <td>23.0</td>\n",
              "      <td>94.0</td>\n",
              "      <td>28.1</td>\n",
              "      <td>0.167</td>\n",
              "      <td>21</td>\n",
              "      <td>0</td>\n",
              "    </tr>\n",
              "    <tr>\n",
              "      <th>4</th>\n",
              "      <td>0</td>\n",
              "      <td>137.0</td>\n",
              "      <td>40.0</td>\n",
              "      <td>35.0</td>\n",
              "      <td>168.0</td>\n",
              "      <td>43.1</td>\n",
              "      <td>2.288</td>\n",
              "      <td>33</td>\n",
              "      <td>1</td>\n",
              "    </tr>\n",
              "  </tbody>\n",
              "</table>\n",
              "</div>"
            ],
            "text/plain": [
              "   Pregnancies  Glucose  BloodPressure  ...  DiabetesPedigreeFunction  Age  Outcome\n",
              "0            6    148.0           72.0  ...                     0.627   50        1\n",
              "1            1     85.0           66.0  ...                     0.351   31        0\n",
              "2            8    183.0           64.0  ...                     0.672   32        1\n",
              "3            1     89.0           66.0  ...                     0.167   21        0\n",
              "4            0    137.0           40.0  ...                     2.288   33        1\n",
              "\n",
              "[5 rows x 9 columns]"
            ]
          },
          "metadata": {
            "tags": []
          },
          "execution_count": 24
        }
      ]
    },
    {
      "cell_type": "code",
      "metadata": {
        "id": "21w1wmlcncUR"
      },
      "source": [
        "df.Glucose = df.Glucose.fillna(df.Glucose.mean())\r\n",
        "df.BloodPressure = df.BloodPressure.fillna(df.BloodPressure.mean())\r\n",
        "df.SkinThickness = df.SkinThickness.fillna(df.SkinThickness.mean())\r\n",
        "df.Insulin = df.Insulin.fillna(df.Insulin.mean())\r\n",
        "df.BMI = df.BMI.fillna(df.BMI.mean())"
      ],
      "execution_count": 25,
      "outputs": []
    },
    {
      "cell_type": "markdown",
      "metadata": {
        "id": "MMbuF0_an5BU"
      },
      "source": [
        "## Data Standardization\r\n",
        "- 데이터 표준화는 데이터셋이 평균이 0 분산이 1이 되도록 변환하는 전처리 과정이다. "
      ]
    },
    {
      "cell_type": "code",
      "metadata": {
        "id": "sOcnXWyYn3zQ"
      },
      "source": [
        "df_scaled = preprocessing.scale(df)"
      ],
      "execution_count": 27,
      "outputs": []
    },
    {
      "cell_type": "code",
      "metadata": {
        "id": "Di8BsvLaodq6"
      },
      "source": [
        "df_scaled = pd.DataFrame(df_scaled, columns=df.columns)"
      ],
      "execution_count": 28,
      "outputs": []
    },
    {
      "cell_type": "code",
      "metadata": {
        "id": "AHE3JQjsoi0N"
      },
      "source": [
        "df_scaled.Outcome = df.Outcome\r\n",
        "df = df_scaled"
      ],
      "execution_count": 29,
      "outputs": []
    },
    {
      "cell_type": "markdown",
      "metadata": {
        "id": "szYiukgQprbP"
      },
      "source": [
        "### 데이터 분할"
      ]
    },
    {
      "cell_type": "code",
      "metadata": {
        "id": "JJcGqHnxop8y"
      },
      "source": [
        "x = df.loc[:, df.columns != 'Outcome']\r\n",
        "y = df.Outcome"
      ],
      "execution_count": 31,
      "outputs": []
    },
    {
      "cell_type": "markdown",
      "metadata": {
        "id": "W93mhjmup_s3"
      },
      "source": [
        "- 훈련 데이터 80%\r\n",
        "- 테스트 데이터 20%"
      ]
    },
    {
      "cell_type": "code",
      "metadata": {
        "id": "0_xej9vSpql3"
      },
      "source": [
        "x_train, x_test, y_train, y_test = train_test_split(x, y, test_size=0.2)"
      ],
      "execution_count": 32,
      "outputs": []
    },
    {
      "cell_type": "markdown",
      "metadata": {
        "id": "GVZ-SZ6QqE7u"
      },
      "source": [
        "- 마지막으로 검증 데이터셋을 만든다."
      ]
    },
    {
      "cell_type": "code",
      "metadata": {
        "id": "2v9dUM3zp2Zu"
      },
      "source": [
        "x_train, x_val, y_train, y_val = train_test_split(x_train, y_train, test_size=0.2)"
      ],
      "execution_count": 33,
      "outputs": []
    },
    {
      "cell_type": "markdown",
      "metadata": {
        "id": "6YyrGPVxqQ4z"
      },
      "source": [
        "### 다중 레이어 퍼셉트론\r\n",
        "- MLP는 전방향 신경망이지만 은닉 레이어를 최소 한 개 이상 가지며 각 레이어에 비선형 활성화 함수가 존재한다. \r\n",
        "- 이 구조는 결정 경계를 비선형으로 만들 수 있어 다차원 데이터에 적합하다.\r\n",
        "- 이번에는 2개의 은닉 레이어를 사용한다."
      ]
    },
    {
      "cell_type": "markdown",
      "metadata": {
        "id": "9Ig3jaT6rkOy"
      },
      "source": [
        "### 정리\r\n",
        "- 입력 레이어 : 각 노드는 데이터셋의 각 특징 변수와 같다. 즉, 입력 레이어의 노드가 8개다.\r\n",
        "- 은닉 레이어 : 입력 레이어의 출력을 입력받아 비선형 활성화 함수를 계산한다.\r\n",
        "- 활성화 함수 : ReLU, Sigmoid함수를 사용한다.\r\n",
        "- ReLU : 신경망 중간에 위치한 은닉 레이어에 주로 사용되는 활성화 함수다. 단순히 입력값이 양수일때만 값을 그대로 반환해주고 음수면 0으로 만든다.\r\n",
        "- Sigmoid : 마지막 출력 레이어는 클래스 레이블을 예측할 수 있는 함수가 필요하다. 단순히 이진분류 문제라면 0과 1을 출력하면 되므로 시그모이드를 사용한다. 시그모이드는 입력값을 0과 1사이의 값으로 압축시켜준다. 0.5보다 크면 예측결과를 1로 반환하고 0.5보다 작으면 0으로 반환해준다."
      ]
    },
    {
      "cell_type": "markdown",
      "metadata": {
        "id": "b3RPNg9orlsH"
      },
      "source": [
        "## Keras 모델 만들기\r\n"
      ]
    },
    {
      "cell_type": "code",
      "metadata": {
        "id": "8d-ppK_ep9pC"
      },
      "source": [
        "model = Sequential()"
      ],
      "execution_count": 35,
      "outputs": []
    },
    {
      "cell_type": "markdown",
      "metadata": {
        "id": "o45imXcUr2k2"
      },
      "source": [
        "- 첫 번째 은닉 레이어를 생성한다. \r\n",
        "- 은닉 레이어의 노드를 32개로 설정하고(임의로 설정) 입력 차원은 8개다(칼럼수).\r\n",
        "- 첫 번째 레이어에는 입력 차원을 꼭 설정해줘야 한다."
      ]
    },
    {
      "cell_type": "code",
      "metadata": {
        "id": "_6gIj_X5r01v"
      },
      "source": [
        "# 첫 번째 레이어\r\n",
        "model.add(Dense(32, input_dim=8, activation='relu'))"
      ],
      "execution_count": 36,
      "outputs": []
    },
    {
      "cell_type": "markdown",
      "metadata": {
        "id": "EykRupn0sTvk"
      },
      "source": [
        "- 은닉 레이어를 더 추가하면 모델 복잡도를 올릴 수 있지만 과적합이 발생할 수 있다."
      ]
    },
    {
      "cell_type": "code",
      "metadata": {
        "id": "rkIMB1TAsYCw"
      },
      "source": [
        "# 두 번째 레이어\r\n",
        "model.add(Dense(16, activation='relu'))"
      ],
      "execution_count": 37,
      "outputs": []
    },
    {
      "cell_type": "code",
      "metadata": {
        "id": "auEliUtIsfSS"
      },
      "source": [
        "# 출력 레이어\r\n",
        "model.add(Dense(1, activation='sigmoid'))"
      ],
      "execution_count": 38,
      "outputs": []
    },
    {
      "cell_type": "markdown",
      "metadata": {
        "id": "OxuVYPqaskEE"
      },
      "source": [
        "- 모델 컴파일 : 모델을 훈련시키기 전 훈련 과정에 필요한 매개변수를 정의해준다.\r\n",
        "- optimizer : adam을 사용한다.\r\n",
        "- loss : 이진 분류 문제이므로 binary_crossentropy를 사용한다,.\r\n",
        "- metrics(평가지표) : accuracy(정확도)를 모델의 평가지표로 사용한다."
      ]
    },
    {
      "cell_type": "code",
      "metadata": {
        "colab": {
          "base_uri": "https://localhost:8080/"
        },
        "id": "Ii5hEVh5sjhd",
        "outputId": "0e5b21f7-c66a-4442-910c-fe5e40c0d56c"
      },
      "source": [
        "model.compile(\r\n",
        "    loss='binary_crossentropy',\r\n",
        "    optimizer='adam',\r\n",
        "    metrics=['accuracy']\r\n",
        ")\r\n",
        "model.fit(x_train, y_train, epochs=200, verbose=1)"
      ],
      "execution_count": 40,
      "outputs": [
        {
          "output_type": "stream",
          "text": [
            "Epoch 1/200\n",
            "16/16 [==============================] - 1s 1ms/step - loss: 0.6925 - accuracy: 0.5905\n",
            "Epoch 2/200\n",
            "16/16 [==============================] - 0s 1ms/step - loss: 0.6352 - accuracy: 0.6507\n",
            "Epoch 3/200\n",
            "16/16 [==============================] - 0s 2ms/step - loss: 0.6082 - accuracy: 0.6374\n",
            "Epoch 4/200\n",
            "16/16 [==============================] - 0s 2ms/step - loss: 0.5698 - accuracy: 0.6643\n",
            "Epoch 5/200\n",
            "16/16 [==============================] - 0s 1ms/step - loss: 0.5335 - accuracy: 0.7347\n",
            "Epoch 6/200\n",
            "16/16 [==============================] - 0s 1ms/step - loss: 0.5268 - accuracy: 0.7382\n",
            "Epoch 7/200\n",
            "16/16 [==============================] - 0s 1ms/step - loss: 0.5238 - accuracy: 0.7472\n",
            "Epoch 8/200\n",
            "16/16 [==============================] - 0s 1ms/step - loss: 0.5112 - accuracy: 0.7555\n",
            "Epoch 9/200\n",
            "16/16 [==============================] - 0s 1ms/step - loss: 0.5216 - accuracy: 0.7447\n",
            "Epoch 10/200\n",
            "16/16 [==============================] - 0s 2ms/step - loss: 0.5036 - accuracy: 0.7317\n",
            "Epoch 11/200\n",
            "16/16 [==============================] - 0s 1ms/step - loss: 0.5026 - accuracy: 0.7691\n",
            "Epoch 12/200\n",
            "16/16 [==============================] - 0s 1ms/step - loss: 0.5184 - accuracy: 0.7506\n",
            "Epoch 13/200\n",
            "16/16 [==============================] - 0s 1ms/step - loss: 0.4571 - accuracy: 0.7818\n",
            "Epoch 14/200\n",
            "16/16 [==============================] - 0s 2ms/step - loss: 0.4643 - accuracy: 0.7595\n",
            "Epoch 15/200\n",
            "16/16 [==============================] - 0s 1ms/step - loss: 0.4817 - accuracy: 0.7811\n",
            "Epoch 16/200\n",
            "16/16 [==============================] - 0s 1ms/step - loss: 0.4652 - accuracy: 0.7933\n",
            "Epoch 17/200\n",
            "16/16 [==============================] - 0s 2ms/step - loss: 0.4836 - accuracy: 0.7310\n",
            "Epoch 18/200\n",
            "16/16 [==============================] - 0s 2ms/step - loss: 0.4497 - accuracy: 0.7573\n",
            "Epoch 19/200\n",
            "16/16 [==============================] - 0s 2ms/step - loss: 0.4712 - accuracy: 0.7577\n",
            "Epoch 20/200\n",
            "16/16 [==============================] - 0s 2ms/step - loss: 0.4737 - accuracy: 0.7604\n",
            "Epoch 21/200\n",
            "16/16 [==============================] - 0s 2ms/step - loss: 0.4447 - accuracy: 0.7870\n",
            "Epoch 22/200\n",
            "16/16 [==============================] - 0s 2ms/step - loss: 0.4799 - accuracy: 0.7375\n",
            "Epoch 23/200\n",
            "16/16 [==============================] - 0s 2ms/step - loss: 0.4461 - accuracy: 0.7716\n",
            "Epoch 24/200\n",
            "16/16 [==============================] - 0s 2ms/step - loss: 0.4566 - accuracy: 0.7563\n",
            "Epoch 25/200\n",
            "16/16 [==============================] - 0s 1ms/step - loss: 0.4416 - accuracy: 0.7669\n",
            "Epoch 26/200\n",
            "16/16 [==============================] - 0s 2ms/step - loss: 0.4234 - accuracy: 0.7793\n",
            "Epoch 27/200\n",
            "16/16 [==============================] - 0s 2ms/step - loss: 0.4370 - accuracy: 0.7843\n",
            "Epoch 28/200\n",
            "16/16 [==============================] - 0s 2ms/step - loss: 0.4624 - accuracy: 0.7359\n",
            "Epoch 29/200\n",
            "16/16 [==============================] - 0s 2ms/step - loss: 0.4245 - accuracy: 0.7901\n",
            "Epoch 30/200\n",
            "16/16 [==============================] - 0s 2ms/step - loss: 0.4321 - accuracy: 0.7817\n",
            "Epoch 31/200\n",
            "16/16 [==============================] - 0s 1ms/step - loss: 0.4341 - accuracy: 0.7692\n",
            "Epoch 32/200\n",
            "16/16 [==============================] - 0s 2ms/step - loss: 0.4110 - accuracy: 0.7768\n",
            "Epoch 33/200\n",
            "16/16 [==============================] - 0s 1ms/step - loss: 0.4144 - accuracy: 0.7697\n",
            "Epoch 34/200\n",
            "16/16 [==============================] - 0s 2ms/step - loss: 0.4142 - accuracy: 0.8039\n",
            "Epoch 35/200\n",
            "16/16 [==============================] - 0s 2ms/step - loss: 0.4225 - accuracy: 0.7817\n",
            "Epoch 36/200\n",
            "16/16 [==============================] - 0s 1ms/step - loss: 0.4143 - accuracy: 0.7802\n",
            "Epoch 37/200\n",
            "16/16 [==============================] - 0s 2ms/step - loss: 0.3854 - accuracy: 0.8149\n",
            "Epoch 38/200\n",
            "16/16 [==============================] - 0s 2ms/step - loss: 0.4190 - accuracy: 0.7867\n",
            "Epoch 39/200\n",
            "16/16 [==============================] - 0s 2ms/step - loss: 0.4381 - accuracy: 0.7685\n",
            "Epoch 40/200\n",
            "16/16 [==============================] - 0s 2ms/step - loss: 0.4150 - accuracy: 0.8198\n",
            "Epoch 41/200\n",
            "16/16 [==============================] - 0s 2ms/step - loss: 0.4273 - accuracy: 0.8002\n",
            "Epoch 42/200\n",
            "16/16 [==============================] - 0s 2ms/step - loss: 0.3778 - accuracy: 0.8137\n",
            "Epoch 43/200\n",
            "16/16 [==============================] - 0s 1ms/step - loss: 0.4077 - accuracy: 0.8050\n",
            "Epoch 44/200\n",
            "16/16 [==============================] - 0s 2ms/step - loss: 0.3835 - accuracy: 0.8040\n",
            "Epoch 45/200\n",
            "16/16 [==============================] - 0s 1ms/step - loss: 0.4133 - accuracy: 0.7803\n",
            "Epoch 46/200\n",
            "16/16 [==============================] - 0s 2ms/step - loss: 0.4279 - accuracy: 0.7836\n",
            "Epoch 47/200\n",
            "16/16 [==============================] - 0s 2ms/step - loss: 0.3963 - accuracy: 0.8191\n",
            "Epoch 48/200\n",
            "16/16 [==============================] - 0s 2ms/step - loss: 0.4143 - accuracy: 0.7810\n",
            "Epoch 49/200\n",
            "16/16 [==============================] - 0s 2ms/step - loss: 0.3977 - accuracy: 0.8049\n",
            "Epoch 50/200\n",
            "16/16 [==============================] - 0s 2ms/step - loss: 0.4050 - accuracy: 0.8009\n",
            "Epoch 51/200\n",
            "16/16 [==============================] - 0s 2ms/step - loss: 0.3877 - accuracy: 0.8024\n",
            "Epoch 52/200\n",
            "16/16 [==============================] - 0s 2ms/step - loss: 0.3787 - accuracy: 0.8148\n",
            "Epoch 53/200\n",
            "16/16 [==============================] - 0s 2ms/step - loss: 0.3585 - accuracy: 0.8257\n",
            "Epoch 54/200\n",
            "16/16 [==============================] - 0s 2ms/step - loss: 0.3802 - accuracy: 0.8227\n",
            "Epoch 55/200\n",
            "16/16 [==============================] - 0s 2ms/step - loss: 0.3949 - accuracy: 0.7913\n",
            "Epoch 56/200\n",
            "16/16 [==============================] - 0s 2ms/step - loss: 0.4193 - accuracy: 0.8051\n",
            "Epoch 57/200\n",
            "16/16 [==============================] - 0s 2ms/step - loss: 0.3893 - accuracy: 0.8079\n",
            "Epoch 58/200\n",
            "16/16 [==============================] - 0s 2ms/step - loss: 0.3843 - accuracy: 0.8140\n",
            "Epoch 59/200\n",
            "16/16 [==============================] - 0s 2ms/step - loss: 0.3925 - accuracy: 0.7927\n",
            "Epoch 60/200\n",
            "16/16 [==============================] - 0s 2ms/step - loss: 0.4005 - accuracy: 0.7921\n",
            "Epoch 61/200\n",
            "16/16 [==============================] - 0s 1ms/step - loss: 0.3653 - accuracy: 0.8296\n",
            "Epoch 62/200\n",
            "16/16 [==============================] - 0s 2ms/step - loss: 0.3935 - accuracy: 0.8034\n",
            "Epoch 63/200\n",
            "16/16 [==============================] - 0s 1ms/step - loss: 0.3718 - accuracy: 0.8320\n",
            "Epoch 64/200\n",
            "16/16 [==============================] - 0s 2ms/step - loss: 0.3855 - accuracy: 0.8090\n",
            "Epoch 65/200\n",
            "16/16 [==============================] - 0s 2ms/step - loss: 0.4060 - accuracy: 0.7929\n",
            "Epoch 66/200\n",
            "16/16 [==============================] - 0s 2ms/step - loss: 0.3665 - accuracy: 0.8182\n",
            "Epoch 67/200\n",
            "16/16 [==============================] - 0s 2ms/step - loss: 0.3829 - accuracy: 0.7983\n",
            "Epoch 68/200\n",
            "16/16 [==============================] - 0s 2ms/step - loss: 0.3892 - accuracy: 0.8041\n",
            "Epoch 69/200\n",
            "16/16 [==============================] - 0s 2ms/step - loss: 0.3784 - accuracy: 0.8104\n",
            "Epoch 70/200\n",
            "16/16 [==============================] - 0s 1ms/step - loss: 0.3751 - accuracy: 0.8256\n",
            "Epoch 71/200\n",
            "16/16 [==============================] - 0s 1ms/step - loss: 0.3775 - accuracy: 0.8175\n",
            "Epoch 72/200\n",
            "16/16 [==============================] - 0s 2ms/step - loss: 0.3861 - accuracy: 0.8102\n",
            "Epoch 73/200\n",
            "16/16 [==============================] - 0s 2ms/step - loss: 0.3836 - accuracy: 0.8106\n",
            "Epoch 74/200\n",
            "16/16 [==============================] - 0s 1ms/step - loss: 0.3743 - accuracy: 0.8064\n",
            "Epoch 75/200\n",
            "16/16 [==============================] - 0s 2ms/step - loss: 0.3459 - accuracy: 0.8432\n",
            "Epoch 76/200\n",
            "16/16 [==============================] - 0s 2ms/step - loss: 0.3428 - accuracy: 0.8313\n",
            "Epoch 77/200\n",
            "16/16 [==============================] - 0s 1ms/step - loss: 0.3436 - accuracy: 0.8227\n",
            "Epoch 78/200\n",
            "16/16 [==============================] - 0s 2ms/step - loss: 0.3793 - accuracy: 0.8181\n",
            "Epoch 79/200\n",
            "16/16 [==============================] - 0s 1ms/step - loss: 0.3832 - accuracy: 0.8129\n",
            "Epoch 80/200\n",
            "16/16 [==============================] - 0s 1ms/step - loss: 0.3437 - accuracy: 0.8225\n",
            "Epoch 81/200\n",
            "16/16 [==============================] - 0s 2ms/step - loss: 0.3448 - accuracy: 0.8316\n",
            "Epoch 82/200\n",
            "16/16 [==============================] - 0s 2ms/step - loss: 0.3300 - accuracy: 0.8418\n",
            "Epoch 83/200\n",
            "16/16 [==============================] - 0s 2ms/step - loss: 0.3563 - accuracy: 0.8303\n",
            "Epoch 84/200\n",
            "16/16 [==============================] - 0s 2ms/step - loss: 0.3568 - accuracy: 0.8270\n",
            "Epoch 85/200\n",
            "16/16 [==============================] - 0s 1ms/step - loss: 0.3515 - accuracy: 0.8329\n",
            "Epoch 86/200\n",
            "16/16 [==============================] - 0s 1ms/step - loss: 0.3556 - accuracy: 0.8470\n",
            "Epoch 87/200\n",
            "16/16 [==============================] - 0s 1ms/step - loss: 0.3400 - accuracy: 0.8427\n",
            "Epoch 88/200\n",
            "16/16 [==============================] - 0s 2ms/step - loss: 0.3604 - accuracy: 0.8319\n",
            "Epoch 89/200\n",
            "16/16 [==============================] - 0s 1ms/step - loss: 0.3519 - accuracy: 0.8404\n",
            "Epoch 90/200\n",
            "16/16 [==============================] - 0s 2ms/step - loss: 0.3441 - accuracy: 0.8577\n",
            "Epoch 91/200\n",
            "16/16 [==============================] - 0s 2ms/step - loss: 0.3545 - accuracy: 0.8299\n",
            "Epoch 92/200\n",
            "16/16 [==============================] - 0s 1ms/step - loss: 0.3303 - accuracy: 0.8604\n",
            "Epoch 93/200\n",
            "16/16 [==============================] - 0s 2ms/step - loss: 0.3222 - accuracy: 0.8444\n",
            "Epoch 94/200\n",
            "16/16 [==============================] - 0s 2ms/step - loss: 0.3515 - accuracy: 0.8281\n",
            "Epoch 95/200\n",
            "16/16 [==============================] - 0s 2ms/step - loss: 0.3638 - accuracy: 0.8235\n",
            "Epoch 96/200\n",
            "16/16 [==============================] - 0s 2ms/step - loss: 0.3724 - accuracy: 0.8253\n",
            "Epoch 97/200\n",
            "16/16 [==============================] - 0s 2ms/step - loss: 0.3531 - accuracy: 0.8167\n",
            "Epoch 98/200\n",
            "16/16 [==============================] - 0s 2ms/step - loss: 0.3338 - accuracy: 0.8471\n",
            "Epoch 99/200\n",
            "16/16 [==============================] - 0s 2ms/step - loss: 0.3521 - accuracy: 0.8556\n",
            "Epoch 100/200\n",
            "16/16 [==============================] - 0s 2ms/step - loss: 0.3349 - accuracy: 0.8546\n",
            "Epoch 101/200\n",
            "16/16 [==============================] - 0s 2ms/step - loss: 0.3254 - accuracy: 0.8444\n",
            "Epoch 102/200\n",
            "16/16 [==============================] - 0s 2ms/step - loss: 0.3511 - accuracy: 0.8410\n",
            "Epoch 103/200\n",
            "16/16 [==============================] - 0s 1ms/step - loss: 0.3273 - accuracy: 0.8587\n",
            "Epoch 104/200\n",
            "16/16 [==============================] - 0s 2ms/step - loss: 0.3484 - accuracy: 0.8413\n",
            "Epoch 105/200\n",
            "16/16 [==============================] - 0s 2ms/step - loss: 0.3522 - accuracy: 0.8462\n",
            "Epoch 106/200\n",
            "16/16 [==============================] - 0s 2ms/step - loss: 0.3197 - accuracy: 0.8581\n",
            "Epoch 107/200\n",
            "16/16 [==============================] - 0s 2ms/step - loss: 0.3476 - accuracy: 0.8532\n",
            "Epoch 108/200\n",
            "16/16 [==============================] - 0s 2ms/step - loss: 0.3476 - accuracy: 0.8363\n",
            "Epoch 109/200\n",
            "16/16 [==============================] - 0s 2ms/step - loss: 0.3161 - accuracy: 0.8518\n",
            "Epoch 110/200\n",
            "16/16 [==============================] - 0s 2ms/step - loss: 0.3236 - accuracy: 0.8542\n",
            "Epoch 111/200\n",
            "16/16 [==============================] - 0s 2ms/step - loss: 0.3189 - accuracy: 0.8562\n",
            "Epoch 112/200\n",
            "16/16 [==============================] - 0s 1ms/step - loss: 0.3015 - accuracy: 0.8793\n",
            "Epoch 113/200\n",
            "16/16 [==============================] - 0s 2ms/step - loss: 0.3336 - accuracy: 0.8462\n",
            "Epoch 114/200\n",
            "16/16 [==============================] - 0s 2ms/step - loss: 0.3370 - accuracy: 0.8354\n",
            "Epoch 115/200\n",
            "16/16 [==============================] - 0s 1ms/step - loss: 0.3179 - accuracy: 0.8632\n",
            "Epoch 116/200\n",
            "16/16 [==============================] - 0s 2ms/step - loss: 0.3289 - accuracy: 0.8563\n",
            "Epoch 117/200\n",
            "16/16 [==============================] - 0s 2ms/step - loss: 0.2784 - accuracy: 0.8654\n",
            "Epoch 118/200\n",
            "16/16 [==============================] - 0s 2ms/step - loss: 0.3046 - accuracy: 0.8573\n",
            "Epoch 119/200\n",
            "16/16 [==============================] - 0s 2ms/step - loss: 0.3420 - accuracy: 0.8619\n",
            "Epoch 120/200\n",
            "16/16 [==============================] - 0s 2ms/step - loss: 0.3276 - accuracy: 0.8568\n",
            "Epoch 121/200\n",
            "16/16 [==============================] - 0s 2ms/step - loss: 0.3338 - accuracy: 0.8453\n",
            "Epoch 122/200\n",
            "16/16 [==============================] - 0s 2ms/step - loss: 0.3231 - accuracy: 0.8630\n",
            "Epoch 123/200\n",
            "16/16 [==============================] - 0s 2ms/step - loss: 0.3240 - accuracy: 0.8417\n",
            "Epoch 124/200\n",
            "16/16 [==============================] - 0s 2ms/step - loss: 0.3131 - accuracy: 0.8759\n",
            "Epoch 125/200\n",
            "16/16 [==============================] - 0s 2ms/step - loss: 0.3462 - accuracy: 0.8384\n",
            "Epoch 126/200\n",
            "16/16 [==============================] - 0s 2ms/step - loss: 0.3110 - accuracy: 0.8735\n",
            "Epoch 127/200\n",
            "16/16 [==============================] - 0s 2ms/step - loss: 0.3097 - accuracy: 0.8696\n",
            "Epoch 128/200\n",
            "16/16 [==============================] - 0s 2ms/step - loss: 0.3369 - accuracy: 0.8414\n",
            "Epoch 129/200\n",
            "16/16 [==============================] - 0s 2ms/step - loss: 0.3190 - accuracy: 0.8525\n",
            "Epoch 130/200\n",
            "16/16 [==============================] - 0s 2ms/step - loss: 0.3238 - accuracy: 0.8642\n",
            "Epoch 131/200\n",
            "16/16 [==============================] - 0s 2ms/step - loss: 0.2864 - accuracy: 0.8689\n",
            "Epoch 132/200\n",
            "16/16 [==============================] - 0s 2ms/step - loss: 0.3356 - accuracy: 0.8526\n",
            "Epoch 133/200\n",
            "16/16 [==============================] - 0s 2ms/step - loss: 0.3206 - accuracy: 0.8605\n",
            "Epoch 134/200\n",
            "16/16 [==============================] - 0s 2ms/step - loss: 0.3172 - accuracy: 0.8648\n",
            "Epoch 135/200\n",
            "16/16 [==============================] - 0s 2ms/step - loss: 0.3150 - accuracy: 0.8504\n",
            "Epoch 136/200\n",
            "16/16 [==============================] - 0s 2ms/step - loss: 0.3159 - accuracy: 0.8760\n",
            "Epoch 137/200\n",
            "16/16 [==============================] - 0s 2ms/step - loss: 0.3110 - accuracy: 0.8647\n",
            "Epoch 138/200\n",
            "16/16 [==============================] - 0s 2ms/step - loss: 0.3075 - accuracy: 0.8644\n",
            "Epoch 139/200\n",
            "16/16 [==============================] - 0s 2ms/step - loss: 0.3118 - accuracy: 0.8622\n",
            "Epoch 140/200\n",
            "16/16 [==============================] - 0s 2ms/step - loss: 0.3170 - accuracy: 0.8471\n",
            "Epoch 141/200\n",
            "16/16 [==============================] - 0s 2ms/step - loss: 0.3143 - accuracy: 0.8608\n",
            "Epoch 142/200\n",
            "16/16 [==============================] - 0s 3ms/step - loss: 0.2915 - accuracy: 0.8972\n",
            "Epoch 143/200\n",
            "16/16 [==============================] - 0s 2ms/step - loss: 0.3143 - accuracy: 0.8636\n",
            "Epoch 144/200\n",
            "16/16 [==============================] - 0s 2ms/step - loss: 0.2906 - accuracy: 0.8793\n",
            "Epoch 145/200\n",
            "16/16 [==============================] - 0s 2ms/step - loss: 0.3108 - accuracy: 0.8693\n",
            "Epoch 146/200\n",
            "16/16 [==============================] - 0s 2ms/step - loss: 0.3040 - accuracy: 0.8643\n",
            "Epoch 147/200\n",
            "16/16 [==============================] - 0s 2ms/step - loss: 0.3372 - accuracy: 0.8433\n",
            "Epoch 148/200\n",
            "16/16 [==============================] - 0s 2ms/step - loss: 0.2717 - accuracy: 0.8999\n",
            "Epoch 149/200\n",
            "16/16 [==============================] - 0s 2ms/step - loss: 0.2777 - accuracy: 0.9061\n",
            "Epoch 150/200\n",
            "16/16 [==============================] - 0s 2ms/step - loss: 0.2729 - accuracy: 0.9002\n",
            "Epoch 151/200\n",
            "16/16 [==============================] - 0s 2ms/step - loss: 0.3038 - accuracy: 0.8563\n",
            "Epoch 152/200\n",
            "16/16 [==============================] - 0s 2ms/step - loss: 0.2592 - accuracy: 0.9089\n",
            "Epoch 153/200\n",
            "16/16 [==============================] - 0s 2ms/step - loss: 0.3163 - accuracy: 0.8743\n",
            "Epoch 154/200\n",
            "16/16 [==============================] - 0s 2ms/step - loss: 0.3035 - accuracy: 0.8773\n",
            "Epoch 155/200\n",
            "16/16 [==============================] - 0s 2ms/step - loss: 0.3052 - accuracy: 0.8692\n",
            "Epoch 156/200\n",
            "16/16 [==============================] - 0s 2ms/step - loss: 0.2948 - accuracy: 0.8629\n",
            "Epoch 157/200\n",
            "16/16 [==============================] - 0s 2ms/step - loss: 0.2528 - accuracy: 0.9075\n",
            "Epoch 158/200\n",
            "16/16 [==============================] - 0s 2ms/step - loss: 0.2755 - accuracy: 0.8990\n",
            "Epoch 159/200\n",
            "16/16 [==============================] - 0s 2ms/step - loss: 0.2986 - accuracy: 0.8752\n",
            "Epoch 160/200\n",
            "16/16 [==============================] - 0s 2ms/step - loss: 0.2825 - accuracy: 0.8937\n",
            "Epoch 161/200\n",
            "16/16 [==============================] - 0s 2ms/step - loss: 0.2975 - accuracy: 0.8753\n",
            "Epoch 162/200\n",
            "16/16 [==============================] - 0s 2ms/step - loss: 0.2888 - accuracy: 0.8733\n",
            "Epoch 163/200\n",
            "16/16 [==============================] - 0s 2ms/step - loss: 0.2605 - accuracy: 0.9128\n",
            "Epoch 164/200\n",
            "16/16 [==============================] - 0s 2ms/step - loss: 0.2814 - accuracy: 0.8855\n",
            "Epoch 165/200\n",
            "16/16 [==============================] - 0s 1ms/step - loss: 0.2517 - accuracy: 0.9058\n",
            "Epoch 166/200\n",
            "16/16 [==============================] - 0s 2ms/step - loss: 0.2588 - accuracy: 0.9133\n",
            "Epoch 167/200\n",
            "16/16 [==============================] - 0s 2ms/step - loss: 0.2848 - accuracy: 0.8779\n",
            "Epoch 168/200\n",
            "16/16 [==============================] - 0s 2ms/step - loss: 0.2893 - accuracy: 0.8904\n",
            "Epoch 169/200\n",
            "16/16 [==============================] - 0s 2ms/step - loss: 0.2683 - accuracy: 0.8972\n",
            "Epoch 170/200\n",
            "16/16 [==============================] - 0s 2ms/step - loss: 0.2833 - accuracy: 0.8836\n",
            "Epoch 171/200\n",
            "16/16 [==============================] - 0s 2ms/step - loss: 0.2721 - accuracy: 0.8976\n",
            "Epoch 172/200\n",
            "16/16 [==============================] - 0s 2ms/step - loss: 0.2815 - accuracy: 0.8831\n",
            "Epoch 173/200\n",
            "16/16 [==============================] - 0s 2ms/step - loss: 0.2670 - accuracy: 0.9087\n",
            "Epoch 174/200\n",
            "16/16 [==============================] - 0s 2ms/step - loss: 0.2622 - accuracy: 0.8927\n",
            "Epoch 175/200\n",
            "16/16 [==============================] - 0s 2ms/step - loss: 0.2655 - accuracy: 0.8915\n",
            "Epoch 176/200\n",
            "16/16 [==============================] - 0s 2ms/step - loss: 0.2731 - accuracy: 0.8802\n",
            "Epoch 177/200\n",
            "16/16 [==============================] - 0s 2ms/step - loss: 0.2837 - accuracy: 0.8867\n",
            "Epoch 178/200\n",
            "16/16 [==============================] - 0s 2ms/step - loss: 0.2792 - accuracy: 0.8879\n",
            "Epoch 179/200\n",
            "16/16 [==============================] - 0s 2ms/step - loss: 0.2668 - accuracy: 0.8940\n",
            "Epoch 180/200\n",
            "16/16 [==============================] - 0s 2ms/step - loss: 0.2757 - accuracy: 0.8936\n",
            "Epoch 181/200\n",
            "16/16 [==============================] - 0s 2ms/step - loss: 0.2885 - accuracy: 0.8818\n",
            "Epoch 182/200\n",
            "16/16 [==============================] - 0s 2ms/step - loss: 0.2553 - accuracy: 0.9024\n",
            "Epoch 183/200\n",
            "16/16 [==============================] - 0s 2ms/step - loss: 0.2549 - accuracy: 0.9144\n",
            "Epoch 184/200\n",
            "16/16 [==============================] - 0s 2ms/step - loss: 0.2661 - accuracy: 0.8986\n",
            "Epoch 185/200\n",
            "16/16 [==============================] - 0s 2ms/step - loss: 0.2530 - accuracy: 0.9117\n",
            "Epoch 186/200\n",
            "16/16 [==============================] - 0s 3ms/step - loss: 0.2921 - accuracy: 0.8791\n",
            "Epoch 187/200\n",
            "16/16 [==============================] - 0s 2ms/step - loss: 0.2617 - accuracy: 0.9079\n",
            "Epoch 188/200\n",
            "16/16 [==============================] - 0s 2ms/step - loss: 0.2699 - accuracy: 0.8894\n",
            "Epoch 189/200\n",
            "16/16 [==============================] - 0s 2ms/step - loss: 0.2921 - accuracy: 0.8803\n",
            "Epoch 190/200\n",
            "16/16 [==============================] - 0s 2ms/step - loss: 0.2596 - accuracy: 0.9059\n",
            "Epoch 191/200\n",
            "16/16 [==============================] - 0s 2ms/step - loss: 0.2829 - accuracy: 0.8842\n",
            "Epoch 192/200\n",
            "16/16 [==============================] - 0s 2ms/step - loss: 0.2578 - accuracy: 0.9044\n",
            "Epoch 193/200\n",
            "16/16 [==============================] - 0s 2ms/step - loss: 0.2475 - accuracy: 0.9065\n",
            "Epoch 194/200\n",
            "16/16 [==============================] - 0s 2ms/step - loss: 0.2692 - accuracy: 0.8861\n",
            "Epoch 195/200\n",
            "16/16 [==============================] - 0s 2ms/step - loss: 0.2902 - accuracy: 0.8874\n",
            "Epoch 196/200\n",
            "16/16 [==============================] - 0s 2ms/step - loss: 0.2464 - accuracy: 0.9195\n",
            "Epoch 197/200\n",
            "16/16 [==============================] - 0s 2ms/step - loss: 0.2759 - accuracy: 0.9142\n",
            "Epoch 198/200\n",
            "16/16 [==============================] - 0s 2ms/step - loss: 0.2566 - accuracy: 0.9082\n",
            "Epoch 199/200\n",
            "16/16 [==============================] - 0s 2ms/step - loss: 0.2615 - accuracy: 0.9064\n",
            "Epoch 200/200\n",
            "16/16 [==============================] - 0s 2ms/step - loss: 0.2442 - accuracy: 0.9232\n"
          ],
          "name": "stdout"
        },
        {
          "output_type": "execute_result",
          "data": {
            "text/plain": [
              "<tensorflow.python.keras.callbacks.History at 0x7fee9de4b978>"
            ]
          },
          "metadata": {
            "tags": []
          },
          "execution_count": 40
        }
      ]
    },
    {
      "cell_type": "markdown",
      "metadata": {
        "id": "VgZoUGjxtPFV"
      },
      "source": [
        "- 이제 테스트 데이터셋과 추가 평가 지표를 활용해 모델 성능을 최종 평가한다.\r\n"
      ]
    },
    {
      "cell_type": "markdown",
      "metadata": {
        "id": "nEYfcieOtW_8"
      },
      "source": [
        "## 결과 분석\r\n",
        "- 테스트 정확도, 혼동행렬(confuse matrix), ROC 곡선을 이용해 모델을 최종 평가한다.\r\n",
        "- 모델 성능은 evaluate()함수를 사용한다."
      ]
    },
    {
      "cell_type": "code",
      "metadata": {
        "colab": {
          "base_uri": "https://localhost:8080/"
        },
        "id": "9-WXbV8MtDlN",
        "outputId": "1944263d-efb6-46f5-8541-2949a7f348af"
      },
      "source": [
        "scores = model.evaluate(x_train, y_train)\r\n",
        "print('Training Accuracy: %.2f%%\\n' % (scores[1]*100))\r\n",
        "\r\n",
        "scores = model.evaluate(x_test, y_test)\r\n",
        "print('Testing Accuracy: %.2f%%\\n' % (scores[1]*100))"
      ],
      "execution_count": 41,
      "outputs": [
        {
          "output_type": "stream",
          "text": [
            "16/16 [==============================] - 0s 1ms/step - loss: 0.2535 - accuracy: 0.9145\n",
            "Training Accuracy: 91.45%\n",
            "\n",
            "5/5 [==============================] - 0s 2ms/step - loss: 0.6286 - accuracy: 0.7338\n",
            "Testing Accuracy: 73.38%\n",
            "\n"
          ],
          "name": "stdout"
        }
      ]
    },
    {
      "cell_type": "markdown",
      "metadata": {
        "id": "gjY3p-6guIMS"
      },
      "source": [
        "- 훈련 데이터셋의 정확도는 91.45%\r\n",
        "- 테스트 데이터셋의 정확도는 73.38%\r\n",
        "- 새로운 환자의 8가지 측정 항목만 있으면 그 환자의 향후 5년 내에 당뇨가 발병할지 여부를 최대 73% 정확도로 예측할 수 있다."
      ]
    },
    {
      "cell_type": "markdown",
      "metadata": {
        "id": "X57eIbn0ufsi"
      },
      "source": [
        "### 혼동 행렬(confuse matrix)\r\n",
        "- 혼동 행렬은 모델이 예측한 결과의 진음성, 위양성, 위음성, 진양성 지표를 분석할 수 있는 시각화 방식이다.\r\n",
        "- 진음성 : 실제 클래스가 음성(당뇨 미발병)이고 모델도 음성(미발병)으로 예측한 경우\r\n",
        "- 위양성 : 실제 클래스는 음성(미발병)인데 모델은 양성(발병)으로 예측한 경우\r\n",
        "- 위음성 : 실제 클래스는 양성(발병)인데 모델은 음성(미발병)으로 예측한 경우\r\n",
        "- 진양성 : 실제 클래스가 양성(발병)인데 모델도 양성(발병)으로 예측한 경우\r\n",
        "- 즉, 좋은 모델은 진음성과 진양성을 최대로하고 위음성과 위양성을 최소로 줄이는 모델이다."
      ]
    },
    {
      "cell_type": "code",
      "metadata": {
        "id": "ifgLFNH0uFc8"
      },
      "source": [
        "from sklearn.metrics import confusion_matrix\r\n",
        "import seaborn as sns"
      ],
      "execution_count": 42,
      "outputs": []
    },
    {
      "cell_type": "code",
      "metadata": {
        "colab": {
          "base_uri": "https://localhost:8080/",
          "height": 353
        },
        "id": "Gis3wCCovW1I",
        "outputId": "a3ed9e50-32a1-4c12-98d2-234c8b13bb69"
      },
      "source": [
        "y_test_pred = model.predict_classes(x_test)\r\n",
        "c_matrix = confusion_matrix(y_test, y_test_pred)\r\n",
        "ax = sns.heatmap(c_matrix, annot=True, xticklabels=['No Diabetes', 'Diabetes'], yticklabels=['No Diabetes', 'Diabetes'], cbar=False, cmap='Blues')\r\n",
        "ax.set_xlabel('Prediction')\r\n",
        "ax.set_ylabel('Actual')\r\n",
        "\r\n",
        "plt.show()\r\n",
        "plt.clf()"
      ],
      "execution_count": 43,
      "outputs": [
        {
          "output_type": "stream",
          "text": [
            "/usr/local/lib/python3.6/dist-packages/tensorflow/python/keras/engine/sequential.py:450: UserWarning: `model.predict_classes()` is deprecated and will be removed after 2021-01-01. Please use instead:* `np.argmax(model.predict(x), axis=-1)`,   if your model does multi-class classification   (e.g. if it uses a `softmax` last-layer activation).* `(model.predict(x) > 0.5).astype(\"int32\")`,   if your model does binary classification   (e.g. if it uses a `sigmoid` last-layer activation).\n",
            "  warnings.warn('`model.predict_classes()` is deprecated and '\n"
          ],
          "name": "stderr"
        },
        {
          "output_type": "display_data",
          "data": {
            "image/png": "[encoded data removed]",
            "text/plain": [
              "<Figure size 432x288 with 1 Axes>"
            ]
          },
          "metadata": {
            "tags": [],
            "needs_background": "light"
          }
        },
        {
          "output_type": "display_data",
          "data": {
            "text/plain": [
              "<Figure size 432x288 with 0 Axes>"
            ]
          },
          "metadata": {
            "tags": []
          }
        }
      ]
    },
    {
      "cell_type": "markdown",
      "metadata": {
        "id": "WKTPlDm2wkCq"
      },
      "source": [
        "### ROC Curve\r\n",
        "- ROC 곡선은 위양성률을 x축에 놓고 진양성률을 y축에 그린 차트다\r\n",
        "- ROC 곡선으로 모델 성능을 평가하는 척도는 AUC(Area Under the Curve)다.\r\n",
        "- AUC가 크다면 클래스 분류 정확도가 높다는 뜻이고 AUC가 낮다면 모델의 정확도가 나쁘고 예측이 자주 빗나간다는 의미다."
      ]
    },
    {
      "cell_type": "code",
      "metadata": {
        "id": "u16fQRL4v4BH"
      },
      "source": [
        "from sklearn.metrics import roc_curve\r\n",
        "\r\n",
        "y_test_pred_probs = model.predict(x_test)"
      ],
      "execution_count": 44,
      "outputs": []
    },
    {
      "cell_type": "code",
      "metadata": {
        "id": "GhIALMn-xEKV"
      },
      "source": [
        "# FPR = 위양성률\r\n",
        "# TPR = 진양성률\r\n",
        "FPR, TPR, _ = roc_curve(y_test, y_test_pred_probs)"
      ],
      "execution_count": 45,
      "outputs": []
    },
    {
      "cell_type": "code",
      "metadata": {
        "colab": {
          "base_uri": "https://localhost:8080/",
          "height": 313
        },
        "id": "MvFaUF0OxKXW",
        "outputId": "54c5ea49-aa70-4695-bc24-dee6b4655853"
      },
      "source": [
        "plt.plot(FPR, TPR)\r\n",
        "plt.plot([0,1],[0,1],'--',color='black') # 대각선\r\n",
        "plt.title('ROC Curve')\r\n",
        "plt.xlabel('False Positive Rate')\r\n",
        "plt.ylabel('True Positive Rate')\r\n",
        "plt.show()\r\n",
        "plt.clf()"
      ],
      "execution_count": 46,
      "outputs": [
        {
          "output_type": "display_data",
          "data": {
            "image/png": "[encoded data removed]",
            "text/plain": [
              "<Figure size 432x288 with 1 Axes>"
            ]
          },
          "metadata": {
            "tags": [],
            "needs_background": "light"
          }
        },
        {
          "output_type": "display_data",
          "data": {
            "text/plain": [
              "<Figure size 432x288 with 0 Axes>"
            ]
          },
          "metadata": {
            "tags": []
          }
        }
      ]
    },
    {
      "cell_type": "markdown",
      "metadata": {
        "id": "ratgifEMxu59"
      },
      "source": [
        "### 모델 개선\r\n",
        "- 어떻게 위음성, 위양성을 낮추고 모델의 정확도를 올릴수 있을까?\r\n",
        "- 모델 성능이 잘 나오지 않는 이유는 여러가지가 있지만 신경망의 복잡도 보단 예측 성능을 좌우하는 강력한 특징변수가 부족한 경우에 주로 발생한다.\r\n",
        "- 이번 데이터의 특징 변수의 양이 8개로 부족한 것도 있고 전체 데이터양이 부족한 것도 이유일 수 있다.\r\n",
        "- 모델에 사용할 특징 변수를 늘리는 방법중 하나로는 특징 공학(Feature Engineering)기법을 사용할 수 있다.\r\n",
        "- 특징 공학은 도메인 지식을 활용해 머신 러닝에 사용할 새로운 특징 변수를 생성하는 과정이다.\r\n",
        "- 이 밖에도 특징 선택 방식도 있다. 특징 선택은 데이터셋에 잡음이 너무 많아 이를 제거해 성능을 개선할 수 있을 때 유용하다.\r\n",
        "- 변수를 선택할 때는 의사결정트리를 사용한다. 의사결정트리는 변수 값의 통계를 바탕으로 특징 변수의 중요도를 나열할 수 있는데 이 기능을 특징 변수선택에도 유용하게 활용할 수 있다.\r\n",
        "- 먼저 의사결정트리로 학습시키고 트리가 출력한 결과를 바탕으로 중요하지 않은 변수를 제거한 후 신경망에 사용한다."
      ]
    },
    {
      "cell_type": "code",
      "metadata": {
        "id": "o_eEDQ8BxpCk"
      },
      "source": [
        ""
      ],
      "execution_count": null,
      "outputs": []
    }
  ]
}